{
  "nbformat": 4,
  "nbformat_minor": 0,
  "metadata": {
    "colab": {
      "name": "Digit_Recognition_Tensorflow.ipynb",
      "version": "0.3.2",
      "provenance": [],
      "include_colab_link": true
    },
    "kernelspec": {
      "name": "python3",
      "display_name": "Python 3"
    },
    "accelerator": "TPU"
  },
  "cells": [
    {
      "cell_type": "markdown",
      "metadata": {
        "id": "view-in-github",
        "colab_type": "text"
      },
      "source": [
        "[View in Colaboratory](https://colab.research.google.com/github/KumarNavish/Personal-Projects/blob/master/Digit_Recognition_Tensorflow.ipynb)"
      ]
    },
    {
      "metadata": {
        "id": "WGl74s7aJfR5",
        "colab_type": "code",
        "colab": {
          "base_uri": "https://localhost:8080/",
          "height": 90
        },
        "outputId": "97df766e-1e2a-4e0f-9257-3dfdb1e87835"
      },
      "cell_type": "code",
      "source": [
        "import tensorflow as tf\n",
        "from tensorflow.examples.tutorials.mnist import input_data\n",
        "mnist = input_data.read_data_sets('/tmp/data',one_hot = True)"
      ],
      "execution_count": 42,
      "outputs": [
        {
          "output_type": "stream",
          "text": [
            "Extracting /tmp/data/train-images-idx3-ubyte.gz\n",
            "Extracting /tmp/data/train-labels-idx1-ubyte.gz\n",
            "Extracting /tmp/data/t10k-images-idx3-ubyte.gz\n",
            "Extracting /tmp/data/t10k-labels-idx1-ubyte.gz\n"
          ],
          "name": "stdout"
        }
      ]
    },
    {
      "metadata": {
        "id": "G116U_6iJmtF",
        "colab_type": "code",
        "colab": {}
      },
      "cell_type": "code",
      "source": [
        "## Building Neural net architechture  :\n",
        "input_size = 784\n",
        "num_hidden_layer1 = 500\n",
        "num_hidden_layer2 = 400\n",
        "num_hidden_layer3 = 256\n",
        "num_classes = 10\n",
        "\n",
        "batch_size = 100\n",
        "\n",
        "x = tf.placeholder('float',[None,input_size])\n",
        "y = tf.placeholder('float')"
      ],
      "execution_count": 0,
      "outputs": []
    },
    {
      "metadata": {
        "id": "mf6ykPLsJ5Ni",
        "colab_type": "code",
        "colab": {}
      },
      "cell_type": "code",
      "source": [
        "def neural_network_arch(x):\n",
        "  \n",
        "  hidden_layer1 = {\"weights\":tf.Variable(tf.random_normal([input_size,num_hidden_layer1])),\n",
        "                   'biases':tf.Variable(tf.random_normal([num_hidden_layer1]))}\n",
        "  \n",
        "  hidden_layer2 = {\"weights\":tf.Variable(tf.random_normal([num_hidden_layer1,num_hidden_layer2])),\n",
        "                   'biases':tf.Variable(tf.random_normal([num_hidden_layer2]))}\n",
        "  \n",
        "  hidden_layer3 = {\"weights\":tf.Variable(tf.random_normal([num_hidden_layer2,num_hidden_layer3])),\n",
        "                   'biases':tf.Variable(tf.random_normal([num_hidden_layer3]))}\n",
        "  \n",
        "  output = {\"weights\":tf.Variable(tf.random_normal([num_hidden_layer3,num_classes])),\n",
        "                   'biases':tf.Variable(tf.random_normal([num_classes]))}\n",
        "  \n",
        "  layer1 = tf.add(tf.matmul(x,hidden_layer1['weights']),hidden_layer1['biases'])\n",
        "  layer1 = tf.nn.relu(layer1)\n",
        "  \n",
        "  layer2 = tf.add(tf.matmul(layer1,hidden_layer2['weights']),hidden_layer2['biases'])\n",
        "  layer2 = tf.nn.relu(layer2)\n",
        "  \n",
        "  layer3 = tf.add(tf.matmul(layer2,hidden_layer3['weights']),hidden_layer3['biases'])\n",
        "  layer3 = tf.nn.relu(layer3)\n",
        "  \n",
        "  output = tf.add(tf.matmul(layer3,output['weights']),output['biases'])\n",
        "  \n",
        "  return output"
      ],
      "execution_count": 0,
      "outputs": []
    },
    {
      "metadata": {
        "id": "FD16YhecJ6GJ",
        "colab_type": "code",
        "colab": {
          "base_uri": "https://localhost:8080/",
          "height": 381
        },
        "outputId": "200df577-2ebf-4d98-d23c-8f3c1a6c269d"
      },
      "cell_type": "code",
      "source": [
        "def train_neural_network(x):\n",
        "  \n",
        "  prediction = neural_network_arch(x)\n",
        "  cost = tf.reduce_mean(tf.nn.softmax_cross_entropy_with_logits(logits = prediction , labels = y)) ## This is a loss function that we aspire for.\n",
        "  optimizer = tf.train.AdamOptimizer().minimize(cost) ## This is the optimizer\n",
        "  \n",
        "  num_epochs = 10\n",
        "  with tf.Session() as sess:\n",
        "    sess.run(tf.global_variables_initializer())\n",
        "    \n",
        "    for epoch in range(num_epochs):\n",
        "      epoch_loss = 0\n",
        "      for _ in range(int(mnist.train.num_examples/batch_size)):\n",
        "        epochX,epochY = mnist.train.next_batch(batch_size)\n",
        "        _,c = sess.run([optimizer,cost],feed_dict = {x:epochX,y:epochY})\n",
        "        epoch_loss+=c\n",
        "      \n",
        "      print(\"{}/{}-Epochs Over with loss : {}\".format(epoch+1,num_epochs,epoch_loss))\n",
        "      \n",
        "      correct_predictions = tf.equal(tf.argmax(prediction,axis=1),tf.argmax(y,axis=1))\n",
        "      accuracy = tf.reduce_mean(tf.cast(correct_predictions,'float'))\n",
        "      print(\"accuracy : \",accuracy.eval({x:mnist.test.images,y:mnist.test.labels}))\n",
        "      \n",
        "        \n",
        "train_neural_network(x)\n",
        "     "
      ],
      "execution_count": 41,
      "outputs": [
        {
          "output_type": "stream",
          "text": [
            "1/10-Epochs Over with loss : 1096893.5082550049\n",
            "accuracy :  0.8988\n",
            "2/10-Epochs Over with loss : 269848.02949905396\n",
            "accuracy :  0.9179\n",
            "3/10-Epochs Over with loss : 152648.55892813206\n",
            "accuracy :  0.9263\n",
            "4/10-Epochs Over with loss : 94138.61077488586\n",
            "accuracy :  0.9345\n",
            "5/10-Epochs Over with loss : 62628.5999930501\n",
            "accuracy :  0.9363\n",
            "6/10-Epochs Over with loss : 40818.51048639875\n",
            "accuracy :  0.9431\n",
            "7/10-Epochs Over with loss : 26174.078296079846\n",
            "accuracy :  0.9433\n",
            "8/10-Epochs Over with loss : 18831.634231477976\n",
            "accuracy :  0.9447\n",
            "9/10-Epochs Over with loss : 14481.318213642595\n",
            "accuracy :  0.9499\n",
            "10/10-Epochs Over with loss : 12544.905683465287\n",
            "accuracy :  0.9489\n"
          ],
          "name": "stdout"
        }
      ]
    },
    {
      "metadata": {
        "id": "IF7m13QhJ6ks",
        "colab_type": "code",
        "colab": {}
      },
      "cell_type": "code",
      "source": [
        ""
      ],
      "execution_count": 0,
      "outputs": []
    },
    {
      "metadata": {
        "id": "BwBuRFTid9xp",
        "colab_type": "code",
        "colab": {}
      },
      "cell_type": "code",
      "source": [
        ""
      ],
      "execution_count": 0,
      "outputs": []
    }
  ]
}