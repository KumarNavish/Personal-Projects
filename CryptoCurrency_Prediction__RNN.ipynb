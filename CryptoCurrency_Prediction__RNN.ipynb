{
  "nbformat": 4,
  "nbformat_minor": 0,
  "metadata": {
    "colab": {
      "name": "CryptoCurrency_Prediction _RNN.ipynb",
      "version": "0.3.2",
      "provenance": [],
      "include_colab_link": true
    },
    "kernelspec": {
      "name": "python3",
      "display_name": "Python 3"
    },
    "accelerator": "GPU"
  },
  "cells": [
    {
      "cell_type": "markdown",
      "metadata": {
        "id": "view-in-github",
        "colab_type": "text"
      },
      "source": [
        "[View in Colaboratory](https://colab.research.google.com/github/KumarNavish/Personal-Projects/blob/master/CryptoCurrency_Prediction__RNN.ipynb)"
      ]
    },
    {
      "metadata": {
        "id": "U9E9b2FqEcPc",
        "colab_type": "text"
      },
      "cell_type": "markdown",
      "source": [
        "## Getting  all our dependencies : "
      ]
    },
    {
      "metadata": {
        "ExecuteTime": {
          "end_time": "2018-10-25T21:36:04.246185Z",
          "start_time": "2018-10-25T21:36:04.235830Z"
        },
        "id": "DmFUyJHTEcPf",
        "colab_type": "code",
        "colab": {
          "base_uri": "https://localhost:8080/",
          "height": 85
        },
        "outputId": "55ddb0f7-f5ed-4157-8ec8-67ea53457440"
      },
      "cell_type": "code",
      "source": [
        "%pylab inline\n",
        "import pandas as pd\n",
        "from sklearn.preprocessing import scale\n",
        "from collections import deque ## ideal for storing time series data \n",
        "from random import shuffle\n",
        "import tensorflow as tf\n",
        "from tensorflow.keras.models import  Sequential\n",
        "from tensorflow.keras.layers import Dense,CuDNNLSTM,BatchNormalization,Dropout"
      ],
      "execution_count": 46,
      "outputs": [
        {
          "output_type": "stream",
          "text": [
            "Populating the interactive namespace from numpy and matplotlib\n"
          ],
          "name": "stdout"
        },
        {
          "output_type": "stream",
          "text": [
            "/usr/local/lib/python3.6/dist-packages/IPython/core/magics/pylab.py:161: UserWarning: pylab import has clobbered these variables: ['shuffle']\n",
            "`%matplotlib` prevents importing * from pylab and numpy\n",
            "  \"\\n`%matplotlib` prevents importing * from pylab and numpy\"\n"
          ],
          "name": "stderr"
        }
      ]
    },
    {
      "metadata": {
        "ExecuteTime": {
          "end_time": "2018-10-25T21:08:16.695490Z",
          "start_time": "2018-10-25T21:08:16.551075Z"
        },
        "id": "9Xyho5JIEcPq",
        "colab_type": "code",
        "colab": {
          "base_uri": "https://localhost:8080/",
          "height": 204
        },
        "outputId": "3597295c-a200-41e0-b756-c6b5980e1565"
      },
      "cell_type": "code",
      "source": [
        "## This is what  data for individual CryptoCurrency looks like:\n",
        "pd.read_csv('LTC-USD.csv',names=['time','Open','High', 'Low', 'Close', 'Volume']).head(5)"
      ],
      "execution_count": 18,
      "outputs": [
        {
          "output_type": "execute_result",
          "data": {
            "text/html": [
              "<div>\n",
              "<style scoped>\n",
              "    .dataframe tbody tr th:only-of-type {\n",
              "        vertical-align: middle;\n",
              "    }\n",
              "\n",
              "    .dataframe tbody tr th {\n",
              "        vertical-align: top;\n",
              "    }\n",
              "\n",
              "    .dataframe thead th {\n",
              "        text-align: right;\n",
              "    }\n",
              "</style>\n",
              "<table border=\"1\" class=\"dataframe\">\n",
              "  <thead>\n",
              "    <tr style=\"text-align: right;\">\n",
              "      <th></th>\n",
              "      <th>time</th>\n",
              "      <th>Open</th>\n",
              "      <th>High</th>\n",
              "      <th>Low</th>\n",
              "      <th>Close</th>\n",
              "      <th>Volume</th>\n",
              "    </tr>\n",
              "  </thead>\n",
              "  <tbody>\n",
              "    <tr>\n",
              "      <th>0</th>\n",
              "      <td>1528968660</td>\n",
              "      <td>96.580002</td>\n",
              "      <td>96.589996</td>\n",
              "      <td>96.589996</td>\n",
              "      <td>96.580002</td>\n",
              "      <td>9.647200</td>\n",
              "    </tr>\n",
              "    <tr>\n",
              "      <th>1</th>\n",
              "      <td>1528968720</td>\n",
              "      <td>96.449997</td>\n",
              "      <td>96.669998</td>\n",
              "      <td>96.589996</td>\n",
              "      <td>96.660004</td>\n",
              "      <td>314.387024</td>\n",
              "    </tr>\n",
              "    <tr>\n",
              "      <th>2</th>\n",
              "      <td>1528968780</td>\n",
              "      <td>96.470001</td>\n",
              "      <td>96.570000</td>\n",
              "      <td>96.570000</td>\n",
              "      <td>96.570000</td>\n",
              "      <td>77.129799</td>\n",
              "    </tr>\n",
              "    <tr>\n",
              "      <th>3</th>\n",
              "      <td>1528968840</td>\n",
              "      <td>96.449997</td>\n",
              "      <td>96.570000</td>\n",
              "      <td>96.570000</td>\n",
              "      <td>96.500000</td>\n",
              "      <td>7.216067</td>\n",
              "    </tr>\n",
              "    <tr>\n",
              "      <th>4</th>\n",
              "      <td>1528968900</td>\n",
              "      <td>96.279999</td>\n",
              "      <td>96.540001</td>\n",
              "      <td>96.500000</td>\n",
              "      <td>96.389999</td>\n",
              "      <td>524.539978</td>\n",
              "    </tr>\n",
              "  </tbody>\n",
              "</table>\n",
              "</div>"
            ],
            "text/plain": [
              "         time       Open       High        Low      Close      Volume\n",
              "0  1528968660  96.580002  96.589996  96.589996  96.580002    9.647200\n",
              "1  1528968720  96.449997  96.669998  96.589996  96.660004  314.387024\n",
              "2  1528968780  96.470001  96.570000  96.570000  96.570000   77.129799\n",
              "3  1528968840  96.449997  96.570000  96.570000  96.500000    7.216067\n",
              "4  1528968900  96.279999  96.540001  96.500000  96.389999  524.539978"
            ]
          },
          "metadata": {
            "tags": []
          },
          "execution_count": 18
        }
      ]
    },
    {
      "metadata": {
        "id": "FcEboY6SEcPu",
        "colab_type": "text"
      },
      "cell_type": "markdown",
      "source": [
        "### Getting required data in right format : "
      ]
    },
    {
      "metadata": {
        "ExecuteTime": {
          "end_time": "2018-10-25T21:45:12.237613Z",
          "start_time": "2018-10-25T21:45:11.710942Z"
        },
        "id": "MxNpwH7pEcPu",
        "colab_type": "code",
        "colab": {
          "base_uri": "https://localhost:8080/",
          "height": 235
        },
        "outputId": "c4022198-24c9-4c76-b790-fa8e667b3d07"
      },
      "cell_type": "code",
      "source": [
        "## We only need Close ,Volume of each Crpto currency\n",
        "currencies = ['BCH-USD','BTC-USD','ETH-USD','LTC-USD']\n",
        "def dataframe(currency):\n",
        "    df = pd.read_csv(f'{currency}.csv',names=['time','Open','High', 'Low', f'{currency}_Close', f'{currency}_Volume'])\n",
        "    df = df[['time',f'{currency}_Close', f'{currency}_Volume']]\n",
        "    df.set_index('time',inplace = True)\n",
        "    return df\n",
        "#------------------------------------------------------------------------------\n",
        "for i,currency in enumerate(currencies):\n",
        "    if i==0 :\n",
        "        df = pd.read_csv(f'{currency}.csv',names=['time','Open','High', 'Low', f'{currency}_Close', f'{currency}_Volume'])\n",
        "        df = df[['time',f'{currency}_Close', f'{currency}_Volume']]\n",
        "        df.set_index('time',inplace = True)\n",
        "    else:\n",
        "        df = df.join(dataframe(currency))\n",
        "df.head()"
      ],
      "execution_count": 65,
      "outputs": [
        {
          "output_type": "execute_result",
          "data": {
            "text/html": [
              "<div>\n",
              "<style scoped>\n",
              "    .dataframe tbody tr th:only-of-type {\n",
              "        vertical-align: middle;\n",
              "    }\n",
              "\n",
              "    .dataframe tbody tr th {\n",
              "        vertical-align: top;\n",
              "    }\n",
              "\n",
              "    .dataframe thead th {\n",
              "        text-align: right;\n",
              "    }\n",
              "</style>\n",
              "<table border=\"1\" class=\"dataframe\">\n",
              "  <thead>\n",
              "    <tr style=\"text-align: right;\">\n",
              "      <th></th>\n",
              "      <th>BCH-USD_Close</th>\n",
              "      <th>BCH-USD_Volume</th>\n",
              "      <th>BTC-USD_Close</th>\n",
              "      <th>BTC-USD_Volume</th>\n",
              "      <th>ETH-USD_Close</th>\n",
              "      <th>ETH-USD_Volume</th>\n",
              "      <th>LTC-USD_Close</th>\n",
              "      <th>LTC-USD_Volume</th>\n",
              "    </tr>\n",
              "    <tr>\n",
              "      <th>time</th>\n",
              "      <th></th>\n",
              "      <th></th>\n",
              "      <th></th>\n",
              "      <th></th>\n",
              "      <th></th>\n",
              "      <th></th>\n",
              "      <th></th>\n",
              "      <th></th>\n",
              "    </tr>\n",
              "  </thead>\n",
              "  <tbody>\n",
              "    <tr>\n",
              "      <th>1528968660</th>\n",
              "      <td>871.719971</td>\n",
              "      <td>5.675361</td>\n",
              "      <td>6489.549805</td>\n",
              "      <td>0.587100</td>\n",
              "      <td>NaN</td>\n",
              "      <td>NaN</td>\n",
              "      <td>96.580002</td>\n",
              "      <td>9.647200</td>\n",
              "    </tr>\n",
              "    <tr>\n",
              "      <th>1528968720</th>\n",
              "      <td>870.859985</td>\n",
              "      <td>26.856577</td>\n",
              "      <td>6487.379883</td>\n",
              "      <td>7.706374</td>\n",
              "      <td>486.01001</td>\n",
              "      <td>26.019083</td>\n",
              "      <td>96.660004</td>\n",
              "      <td>314.387024</td>\n",
              "    </tr>\n",
              "    <tr>\n",
              "      <th>1528968780</th>\n",
              "      <td>870.099976</td>\n",
              "      <td>1.124300</td>\n",
              "      <td>6479.410156</td>\n",
              "      <td>3.088252</td>\n",
              "      <td>486.00000</td>\n",
              "      <td>8.449400</td>\n",
              "      <td>96.570000</td>\n",
              "      <td>77.129799</td>\n",
              "    </tr>\n",
              "    <tr>\n",
              "      <th>1528968840</th>\n",
              "      <td>870.789978</td>\n",
              "      <td>1.749862</td>\n",
              "      <td>6479.410156</td>\n",
              "      <td>1.404100</td>\n",
              "      <td>485.75000</td>\n",
              "      <td>26.994646</td>\n",
              "      <td>96.500000</td>\n",
              "      <td>7.216067</td>\n",
              "    </tr>\n",
              "    <tr>\n",
              "      <th>1528968900</th>\n",
              "      <td>870.000000</td>\n",
              "      <td>1.680500</td>\n",
              "      <td>6479.979980</td>\n",
              "      <td>0.753000</td>\n",
              "      <td>486.00000</td>\n",
              "      <td>77.355759</td>\n",
              "      <td>96.389999</td>\n",
              "      <td>524.539978</td>\n",
              "    </tr>\n",
              "  </tbody>\n",
              "</table>\n",
              "</div>"
            ],
            "text/plain": [
              "            BCH-USD_Close  BCH-USD_Volume  BTC-USD_Close  BTC-USD_Volume  \\\n",
              "time                                                                       \n",
              "1528968660     871.719971        5.675361    6489.549805        0.587100   \n",
              "1528968720     870.859985       26.856577    6487.379883        7.706374   \n",
              "1528968780     870.099976        1.124300    6479.410156        3.088252   \n",
              "1528968840     870.789978        1.749862    6479.410156        1.404100   \n",
              "1528968900     870.000000        1.680500    6479.979980        0.753000   \n",
              "\n",
              "            ETH-USD_Close  ETH-USD_Volume  LTC-USD_Close  LTC-USD_Volume  \n",
              "time                                                                      \n",
              "1528968660            NaN             NaN      96.580002        9.647200  \n",
              "1528968720      486.01001       26.019083      96.660004      314.387024  \n",
              "1528968780      486.00000        8.449400      96.570000       77.129799  \n",
              "1528968840      485.75000       26.994646      96.500000        7.216067  \n",
              "1528968900      486.00000       77.355759      96.389999      524.539978  "
            ]
          },
          "metadata": {
            "tags": []
          },
          "execution_count": 65
        }
      ]
    },
    {
      "metadata": {
        "ExecuteTime": {
          "end_time": "2018-10-25T21:45:12.242611Z",
          "start_time": "2018-10-25T21:45:12.239616Z"
        },
        "id": "2K9qdmyYEcPz",
        "colab_type": "code",
        "colab": {}
      },
      "cell_type": "code",
      "source": [
        "SEQ_LEN = 60 ## THE SPAN OF TIME UNDER WHICH DATA TO BE CONSIDERED FOR PREDICTING FUTURE PRICE\n",
        "FUT_PERIOD_PREDICT = 3  # TIME SPAN FOR PREDICTING DROP/RISE.\n",
        "RATIO_TO_PREDICT = 'LTC-USD' # "
      ],
      "execution_count": 0,
      "outputs": []
    },
    {
      "metadata": {
        "ExecuteTime": {
          "end_time": "2018-10-25T21:45:12.314600Z",
          "start_time": "2018-10-25T21:45:12.244464Z"
        },
        "id": "YZN8MkD8EcP2",
        "colab_type": "code",
        "colab": {}
      },
      "cell_type": "code",
      "source": [
        "def classify(current,future):\n",
        "    if float(future)>float(current):\n",
        "        return 1  ## 1 Buy\n",
        "    else:\n",
        "        return 0  ## 0 Do not buy"
      ],
      "execution_count": 0,
      "outputs": []
    },
    {
      "metadata": {
        "ExecuteTime": {
          "end_time": "2018-10-25T21:45:12.414156Z",
          "start_time": "2018-10-25T21:45:12.380193Z"
        },
        "id": "AhivwDmhEcP5",
        "colab_type": "code",
        "colab": {}
      },
      "cell_type": "code",
      "source": [
        "## By this we have 3 min ahead of predictions for each current prediction \n",
        "df['future'] = df[f'{RATIO_TO_PREDICT}_Close'].shift(-FUT_PERIOD_PREDICT)"
      ],
      "execution_count": 0,
      "outputs": []
    },
    {
      "metadata": {
        "ExecuteTime": {
          "end_time": "2018-10-25T21:45:13.003898Z",
          "start_time": "2018-10-25T21:45:12.868419Z"
        },
        "id": "NsO3H1_sEcP8",
        "colab_type": "code",
        "colab": {}
      },
      "cell_type": "code",
      "source": [
        "## In here we are only trying to predict whether after 3 min prices will increase or fall.\n",
        "df['target']=list(map(classify,df[f'{RATIO_TO_PREDICT}_Close'],df['future']))\n",
        "targets = df.target.values ##### Targets\n",
        "df.drop(['future'],axis = 1,inplace = True) ## future was only needed to predict targets.\n",
        "df.dropna(inplace =  True)"
      ],
      "execution_count": 0,
      "outputs": []
    },
    {
      "metadata": {
        "ExecuteTime": {
          "end_time": "2018-10-25T22:01:15.272546Z",
          "start_time": "2018-10-25T22:01:07.793715Z"
        },
        "id": "zPWjFuBCEcQA",
        "colab_type": "code",
        "colab": {}
      },
      "cell_type": "code",
      "source": [
        "## Creating Validation set and preprocessing|Scaling data:\n",
        "# LETS TAKE 5% OF DATA FOR VALIDATION:\n",
        "#------------------------------------------------------------\n",
        "last_5pct = sorted(df.index.values)[int(-0.05*df.index.shape[0])]\n",
        "validation_df = df[(df.index>=last_5pct)]\n",
        "train_df = df[(df.index<last_5pct)]\n",
        "#------------------------------------------------------------\n",
        "def preprocess_seq(col_df):\n",
        "    for column in col_df.columns: \n",
        "        if column!='target':\n",
        "            col_df.loc[:,column] = col_df[column].pct_change()\n",
        "            col_df.dropna(inplace =  True)\n",
        "            col_df.loc[:,column] = scale(col_df[column].values)\n",
        "    col_df.dropna(inplace = True)\n",
        "    \n",
        "    ## Let's create actual sequences:\n",
        "    sequential_data = [] ## creating our sequential data\n",
        "    prev_data=  deque(maxlen=SEQ_LEN) ## Pops out extra data as new values come in to keep sequence length unchanged.\n",
        "    \n",
        "    for obs in col_df.values:\n",
        "        prev_data.append([i for i in obs[:-1]])\n",
        "        if len(prev_data)==SEQ_LEN:\n",
        "            sequential_data.append([np.array(prev_data),obs[-1]])\n",
        "            \n",
        "    shuffle(sequential_data) ## So as to avoid any unwanted pattern in sequential learning \n",
        "            \n",
        "    # Now let's make our prediction targets of equal length\n",
        "    \n",
        "    buy = [] ## Whether a buy is going to happen if price increases \n",
        "    sell = []  ## Whether a sell is going to happen if price decreases\n",
        "    \n",
        "    for seq,target in sequential_data:\n",
        "      if target==1:\n",
        "        buy.append([seq,target])\n",
        "      else:\n",
        "        sell.append([seq,target])\n",
        "        \n",
        "    lower = min(len(buy),len(sell)) ## To keep their lengths same\n",
        "    \n",
        "    buy = buy[:lower]\n",
        "    sell = sell[:lower]\n",
        "    \n",
        "    shuffle(buy)                      ## Here shuffling is only done to avoid \n",
        "    shuffle(sell)                     ## any unwanted biases creeping in \n",
        "    sequential_data = buy+sell\n",
        "    shuffle(sequential_data)\n",
        "    \n",
        "    X,Y = [],[]\n",
        "    for seq,target in sequential_data:\n",
        "      X.append(seq)\n",
        "      Y.append(target)\n",
        "    return np.array(X),np.array(Y)\n",
        "#----------------------------------------------------------\n",
        "val_x,val_y = preprocess_seq(validation_df)\n",
        "train_x,train_y = preprocess_seq(train_df)"
      ],
      "execution_count": 0,
      "outputs": []
    },
    {
      "metadata": {
        "id": "hjRS2Sm8YxwE",
        "colab_type": "text"
      },
      "cell_type": "markdown",
      "source": [
        "## Applying CuDNNLSTM for sequential predictions :"
      ]
    },
    {
      "metadata": {
        "ExecuteTime": {
          "end_time": "2018-10-25T22:01:19.838465Z",
          "start_time": "2018-10-25T22:01:15.274469Z"
        },
        "id": "4EJprqFyEcQD",
        "colab_type": "code",
        "colab": {
          "base_uri": "https://localhost:8080/",
          "height": 391
        },
        "outputId": "22957e8d-998e-47eb-d258-70d16aadb458"
      },
      "cell_type": "code",
      "source": [
        "BATCH_SIZE = 64  ## Batch sizes for training\n",
        "model = Sequential()\n",
        "\n",
        "model.add(CuDNNLSTM(128,input_shape = (train_x.shape[1:]),return_sequences=True)) \n",
        "model.add(Dropout(0.2))\n",
        "model.add(BatchNormalization())\n",
        "\n",
        "model.add(CuDNNLSTM(128,return_sequences=True)) \n",
        "model.add(Dropout(0.1))\n",
        "model.add(BatchNormalization())\n",
        "\n",
        "model.add(CuDNNLSTM(128)) \n",
        "model.add(Dropout(0.2))\n",
        "\n",
        "model.add(Dense(64,activation = 'relu'))\n",
        "model.add(Dropout(0.2))\n",
        "\n",
        "model.add(Dense(2,activation = 'softmax'))\n",
        "\n",
        "opt = tf.keras.optimizers.Adam(lr = 1e-3,decay = 1e-5)\n",
        "\n",
        "model.compile(optimizer = opt,loss='sparse_categorical_crossentropy'\n",
        "              , metrics = ['accuracy'])\n",
        "\n",
        "model.fit(train_x, train_y, epochs = 10, batch_size = BATCH_SIZE,\n",
        "          validation_data = (val_x,val_y))"
      ],
      "execution_count": 77,
      "outputs": [
        {
          "output_type": "stream",
          "text": [
            "Train on 25630 samples, validate on 1094 samples\n",
            "Epoch 1/10\n",
            "25630/25630 [==============================] - 28s 1ms/step - loss: 0.6990 - acc: 0.5208 - val_loss: 0.6847 - val_acc: 0.5567\n",
            "Epoch 2/10\n",
            "25630/25630 [==============================] - 24s 939us/step - loss: 0.6876 - acc: 0.5407 - val_loss: 0.6862 - val_acc: 0.5594\n",
            "Epoch 3/10\n",
            "25630/25630 [==============================] - 23s 913us/step - loss: 0.6844 - acc: 0.5554 - val_loss: 0.6888 - val_acc: 0.5576\n",
            "Epoch 4/10\n",
            "25630/25630 [==============================] - 23s 889us/step - loss: 0.6794 - acc: 0.5663 - val_loss: 0.6933 - val_acc: 0.5420\n",
            "Epoch 5/10\n",
            "25630/25630 [==============================] - 22s 869us/step - loss: 0.6751 - acc: 0.5773 - val_loss: 0.6944 - val_acc: 0.5430\n",
            "Epoch 6/10\n",
            "25630/25630 [==============================] - 22s 858us/step - loss: 0.6698 - acc: 0.5843 - val_loss: 0.7027 - val_acc: 0.5238\n",
            "Epoch 7/10\n",
            "25630/25630 [==============================] - 21s 836us/step - loss: 0.6598 - acc: 0.5993 - val_loss: 0.6979 - val_acc: 0.5347\n",
            "Epoch 8/10\n",
            "25630/25630 [==============================] - 20s 795us/step - loss: 0.6503 - acc: 0.6128 - val_loss: 0.6986 - val_acc: 0.5430\n",
            "Epoch 9/10\n",
            "25630/25630 [==============================] - 20s 781us/step - loss: 0.6364 - acc: 0.6328 - val_loss: 0.7455 - val_acc: 0.5302\n",
            "Epoch 10/10\n",
            "25630/25630 [==============================] - 20s 765us/step - loss: 0.6172 - acc: 0.6539 - val_loss: 0.7479 - val_acc: 0.5293\n"
          ],
          "name": "stdout"
        },
        {
          "output_type": "execute_result",
          "data": {
            "text/plain": [
              "<tensorflow.python.keras.callbacks.History at 0x7f1b44d20358>"
            ]
          },
          "metadata": {
            "tags": []
          },
          "execution_count": 77
        }
      ]
    },
    {
      "metadata": {
        "id": "2taAzCetW9QN",
        "colab_type": "code",
        "colab": {}
      },
      "cell_type": "code",
      "source": [
        ""
      ],
      "execution_count": 0,
      "outputs": []
    }
  ]
}