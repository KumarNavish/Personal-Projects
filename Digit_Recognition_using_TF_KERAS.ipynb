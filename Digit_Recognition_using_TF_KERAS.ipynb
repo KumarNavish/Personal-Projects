{
  "nbformat": 4,
  "nbformat_minor": 0,
  "metadata": {
    "colab": {
      "name": "Digit_Recognition_using_TF.KERAS.ipynb",
      "version": "0.3.2",
      "provenance": [],
      "include_colab_link": true
    },
    "kernelspec": {
      "name": "python3",
      "display_name": "Python 3"
    },
    "accelerator": "TPU"
  },
  "cells": [
    {
      "cell_type": "markdown",
      "metadata": {
        "id": "view-in-github",
        "colab_type": "text"
      },
      "source": [
        "[View in Colaboratory](https://colab.research.google.com/github/KumarNavish/Personal-Projects/blob/master/Digit_Recognition_using_TF_KERAS.ipynb)"
      ]
    },
    {
      "metadata": {
        "id": "7PM1NpENrol3",
        "colab_type": "code",
        "colab": {
          "base_uri": "https://localhost:8080/",
          "height": 54
        },
        "outputId": "7a55aec5-e341-44f3-b219-c30ad572d982"
      },
      "cell_type": "code",
      "source": [
        "import tensorflow as tf\n",
        "import tensorflow.keras as keras\n",
        "%pylab inline\n",
        "tf.__version__"
      ],
      "execution_count": 6,
      "outputs": [
        {
          "output_type": "stream",
          "text": [
            "Populating the interactive namespace from numpy and matplotlib\n"
          ],
          "name": "stdout"
        },
        {
          "output_type": "execute_result",
          "data": {
            "text/plain": [
              "'1.11.0'"
            ]
          },
          "metadata": {
            "tags": []
          },
          "execution_count": 6
        }
      ]
    },
    {
      "metadata": {
        "id": "BxuYb03kEDeI",
        "colab_type": "code",
        "colab": {
          "base_uri": "https://localhost:8080/",
          "height": 284
        },
        "outputId": "49ecf6fd-bac5-471a-a4de-d702bc0e92f4"
      },
      "cell_type": "code",
      "source": [
        "(x_train,y_train),(x_test,y_test) = keras.datasets.mnist.load_data()\n",
        "plt.imshow(x_train[0],cmap = 'gray')"
      ],
      "execution_count": 44,
      "outputs": [
        {
          "output_type": "execute_result",
          "data": {
            "text/plain": [
              "<matplotlib.image.AxesImage at 0x7f9b7be8af28>"
            ]
          },
          "metadata": {
            "tags": []
          },
          "execution_count": 44
        },
        {
          "output_type": "display_data",
          "data": {
            "image/png": "[encoded data removed]",
            "text/plain": [
              "<matplotlib.figure.Figure at 0x7f9b7bf0ca58>"
            ]
          },
          "metadata": {
            "tags": []
          }
        }
      ]
    },
    {
      "metadata": {
        "id": "qSpZv7mgE0bh",
        "colab_type": "code",
        "colab": {
          "base_uri": "https://localhost:8080/",
          "height": 284
        },
        "outputId": "1aaf47cd-d3d1-46ad-a408-3e38d14b4de2"
      },
      "cell_type": "code",
      "source": [
        "x_train = keras.utils.normalize(x_train,axis=1)\n",
        "x_test= keras.utils.normalize(x_test,axis=1)\n",
        "plt.imshow(x_train[45],cmap = 'gray')"
      ],
      "execution_count": 47,
      "outputs": [
        {
          "output_type": "execute_result",
          "data": {
            "text/plain": [
              "<matplotlib.image.AxesImage at 0x7f9b7bd26cf8>"
            ]
          },
          "metadata": {
            "tags": []
          },
          "execution_count": 47
        },
        {
          "output_type": "display_data",
          "data": {
            "image/png": "[encoded data removed]",
            "text/plain": [
              "<matplotlib.figure.Figure at 0x7f9b7bd61080>"
            ]
          },
          "metadata": {
            "tags": []
          }
        }
      ]
    },
    {
      "metadata": {
        "id": "_62rp6llGzYB",
        "colab_type": "code",
        "colab": {
          "base_uri": "https://localhost:8080/",
          "height": 399
        },
        "outputId": "435c500f-d1f1-4299-ed1e-03f232c09ce0"
      },
      "cell_type": "code",
      "source": [
        "hidden_layer1 = 256\n",
        "hidden_layer2 = 256\n",
        "num_classes = 10\n",
        "model = keras.models.Sequential()\n",
        "model.add(keras.layers.Flatten())\n",
        "model.add(keras.layers.Dense(hidden_layer1,activation ='relu' ))\n",
        "model.add(keras.layers.Dense(hidden_layer2,activation ='relu' ))\n",
        "model.add(keras.layers.Dense(num_classes,activation ='softmax'))\n",
        "model.compile(optimizer='adam',loss = 'sparse_categorical_crossentropy',metrics=['accuracy'])\n",
        "model.fit(x_train,y_train,epochs=10)"
      ],
      "execution_count": 58,
      "outputs": [
        {
          "output_type": "stream",
          "text": [
            "Epoch 1/10\n",
            "60000/60000 [==============================] - 15s 242us/step - loss: 0.2202 - acc: 0.9341\n",
            "Epoch 2/10\n",
            "60000/60000 [==============================] - 14s 237us/step - loss: 0.0889 - acc: 0.9725\n",
            "Epoch 3/10\n",
            "60000/60000 [==============================] - 15s 244us/step - loss: 0.0587 - acc: 0.9808\n",
            "Epoch 4/10\n",
            "60000/60000 [==============================] - 13s 222us/step - loss: 0.0422 - acc: 0.9861\n",
            "Epoch 5/10\n",
            "60000/60000 [==============================] - 14s 232us/step - loss: 0.0314 - acc: 0.9898\n",
            "Epoch 6/10\n",
            "60000/60000 [==============================] - 15s 243us/step - loss: 0.0252 - acc: 0.9913\n",
            "Epoch 7/10\n",
            "60000/60000 [==============================] - 15s 244us/step - loss: 0.0213 - acc: 0.9929\n",
            "Epoch 8/10\n",
            "60000/60000 [==============================] - 15s 245us/step - loss: 0.0178 - acc: 0.9936\n",
            "Epoch 9/10\n",
            "60000/60000 [==============================] - 14s 239us/step - loss: 0.0152 - acc: 0.9946\n",
            "Epoch 10/10\n",
            "60000/60000 [==============================] - 14s 228us/step - loss: 0.0141 - acc: 0.9953\n"
          ],
          "name": "stdout"
        },
        {
          "output_type": "execute_result",
          "data": {
            "text/plain": [
              "<tensorflow.python.keras.callbacks.History at 0x7f9b786c0ef0>"
            ]
          },
          "metadata": {
            "tags": []
          },
          "execution_count": 58
        }
      ]
    },
    {
      "metadata": {
        "id": "-RaxwEub8YXQ",
        "colab_type": "code",
        "colab": {
          "base_uri": "https://localhost:8080/",
          "height": 54
        },
        "outputId": "c9963538-576a-44b4-d1fb-c14a7534c644"
      },
      "cell_type": "code",
      "source": [
        "val_loss,val_accu = model.evaluate(x_test,y_test)\n",
        "val_loss,val_accu"
      ],
      "execution_count": 59,
      "outputs": [
        {
          "output_type": "stream",
          "text": [
            "10000/10000 [==============================] - 0s 42us/step\n"
          ],
          "name": "stdout"
        },
        {
          "output_type": "execute_result",
          "data": {
            "text/plain": [
              "(0.1047297441004208, 0.9784)"
            ]
          },
          "metadata": {
            "tags": []
          },
          "execution_count": 59
        }
      ]
    },
    {
      "metadata": {
        "id": "8Yw5f7L470pH",
        "colab_type": "code",
        "colab": {
          "base_uri": "https://localhost:8080/",
          "height": 35
        },
        "outputId": "ce12f3d5-580a-45a5-b798-9528ebfc7ed3"
      },
      "cell_type": "code",
      "source": [
        "tf.Session().run(tf.argmax(model.predict(x_test[:2]),axis = 1))"
      ],
      "execution_count": 64,
      "outputs": [
        {
          "output_type": "execute_result",
          "data": {
            "text/plain": [
              "array([7, 2])"
            ]
          },
          "metadata": {
            "tags": []
          },
          "execution_count": 64
        }
      ]
    },
    {
      "metadata": {
        "id": "oF9SCV5VIMn0",
        "colab_type": "code",
        "colab": {
          "base_uri": "https://localhost:8080/",
          "height": 514
        },
        "outputId": "095700a5-24bd-41fb-ca16-78503ca68501"
      },
      "cell_type": "code",
      "source": [
        "for img in x_test[:2]:\n",
        "  plt.imshow(img)\n",
        "  plt.show()"
      ],
      "execution_count": 65,
      "outputs": [
        {
          "output_type": "display_data",
          "data": {
            "image/png": "[encoded data removed]",
            "text/plain": [
              "<matplotlib.figure.Figure at 0x7f9b7826c780>"
            ]
          },
          "metadata": {
            "tags": []
          }
        },
        {
          "output_type": "display_data",
          "data": {
            "image/png": "[encoded data removed]",
            "text/plain": [
              "<matplotlib.figure.Figure at 0x7f9b7820e550>"
            ]
          },
          "metadata": {
            "tags": []
          }
        }
      ]
    },
    {
      "metadata": {
        "id": "nG3DVoFi-rG1",
        "colab_type": "code",
        "colab": {}
      },
      "cell_type": "code",
      "source": [
        ""
      ],
      "execution_count": 0,
      "outputs": []
    }
  ]
}